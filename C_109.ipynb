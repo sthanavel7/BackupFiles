{
  "nbformat": 4,
  "nbformat_minor": 0,
  "metadata": {
    "colab": {
      "name": "C-109",
      "provenance": [],
      "authorship_tag": "ABX9TyNOQGaoACQ6s/vlalrUy5Oh",
      "include_colab_link": true
    },
    "kernelspec": {
      "name": "python3",
      "display_name": "Python 3"
    },
    "language_info": {
      "name": "python"
    }
  },
  "cells": [
    {
      "cell_type": "markdown",
      "metadata": {
        "id": "view-in-github",
        "colab_type": "text"
      },
      "source": [
        "<a href=\"https://colab.research.google.com/github/sthanavel7/BackupFiles/blob/main/C_109.ipynb\" target=\"_parent\"><img src=\"https://colab.research.google.com/assets/colab-badge.svg\" alt=\"Open In Colab\"/></a>"
      ]
    },
    {
      "cell_type": "code",
      "metadata": {
        "colab": {
          "base_uri": "https://localhost:8080/"
        },
        "id": "8ZaPTVxF-RcN",
        "outputId": "c27b9a32-34e9-4df1-c27e-fd1f83b0d337"
      },
      "source": [
        "\n",
        "import statistics\n",
        "import pandas as pd\n",
        "import csv\n",
        "\n",
        "df = pd.read_csv(\"StudentsPerformance.csv\")\n",
        "read_list = df[\"reading score\"].to_list()\n",
        "mean = statistics.mean(read_list)\n",
        "median = statistics.median(read_list)\n",
        "mode = statistics.mode(read_list)\n",
        "\n",
        "print(\"Mean Of this data is\",mean)\n",
        "print(\"Median Of this data is\",median)\n",
        "print(\"Mode Of this data is\",mode)\n",
        "\n",
        "std_deviation = statistics.stdev(read_list)\n",
        "first_std_deviation_start, first_std_deviation_end = mean - std_deviation, mean + std_deviation\n",
        "second_std_deviation_start, second_std_deviation_end = mean - (2*std_deviation), mean+(2*std_deviation)\n",
        "third_std_deviation_start, third_std_deviation_end   = mean - (3*std_deviation), mean+(3*std_deviation)\n",
        "\n",
        "print(\"Standard deviation of this data is\",std_deviation)\n",
        "\n",
        "list_of_data_within_1_std_de = [result for result in read_list if result> first_std_deviation_start and result< first_std_deviation_end]\n",
        "list_of_data_within_2_std_de = [result for result in read_list if result> second_std_deviation_start and result< second_std_deviation_end]\n",
        "list_of_data_within_3_std_de = [result for result in read_list if result> third_std_deviation_start and result< third_std_deviation_end]\n",
        "\n",
        "print(\"{}% Of data lies Within 1st deviation\".format(len(list_of_data_within_1_std_deviation)*100/len(read_list)))\n",
        "print(\"{}% Of data lies Within 2nd deviation\".format(len(list_of_data_within_2_std_deviation)*100/len(read_list)))\n",
        "print(\"{}% Of data lies Within 3rd deviation\".format(len(list_of_data_within_3_std_deviation)*100/len(read_list)))\n"
      ],
      "execution_count": 5,
      "outputs": [
        {
          "output_type": "stream",
          "text": [
            "Mean Of this data is 69.169\n",
            "Median Of this data is 70.0\n",
            "Mode Of this data is 72\n",
            "Standard deviation of this data is 14.600191937252216\n",
            "66.4% Of data lies Within 1st deviation\n",
            "95.4% Of data lies Within 2nd deviation\n",
            "99.6% Of data lies Within 3rd deviation\n"
          ],
          "name": "stdout"
        }
      ]
    }
  ]
}